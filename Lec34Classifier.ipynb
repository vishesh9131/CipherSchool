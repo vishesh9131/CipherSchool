{
  "cells": [
    {
      "cell_type": "markdown",
      "metadata": {
        "id": "x11CA7ERrqih"
      },
      "source": [
        "# **Import Libraries**"
      ]
    },
    {
      "cell_type": "code",
      "execution_count": 15,
      "metadata": {},
      "outputs": [
        {
          "name": "stdout",
          "output_type": "stream",
          "text": [
            "zsh:1: no matches found: wandb[keras]\n",
            "Note: you may need to restart the kernel to use updated packages.\n"
          ]
        }
      ],
      "source": [
        "pip install wandb[keras]"
      ]
    },
    {
      "cell_type": "code",
      "execution_count": null,
      "metadata": {
        "id": "CB7UOUAksBpa"
      },
      "outputs": [],
      "source": [
        "!pip install wandb\n"
      ]
    },
    {
      "cell_type": "code",
      "execution_count": 17,
      "metadata": {
        "id": "F5YtpX3Pryqw"
      },
      "outputs": [],
      "source": [
        "from tensorflow.keras.utils import to_categorical\n",
        "from tensorflow.keras.datasets import fashion_mnist\n",
        "from tensorflow.keras.models import Sequential\n",
        "from tensorflow.keras.layers import Dense, Flatten\n",
        "import wandb\n",
        "from wandb.integration.keras import WandbCallback"
      ]
    },
    {
      "cell_type": "markdown",
      "metadata": {
        "id": "3VK1jGPdsH6A"
      },
      "source": [
        "# **Load Dataset**"
      ]
    },
    {
      "cell_type": "code",
      "execution_count": 18,
      "metadata": {
        "id": "9e1ES5jfsQLB"
      },
      "outputs": [
        {
          "name": "stdout",
          "output_type": "stream",
          "text": [
            "Downloading data from https://storage.googleapis.com/tensorflow/tf-keras-datasets/train-labels-idx1-ubyte.gz\n",
            "29515/29515 [==============================] - 0s 1us/step\n",
            "Downloading data from https://storage.googleapis.com/tensorflow/tf-keras-datasets/train-images-idx3-ubyte.gz\n",
            "26421880/26421880 [==============================] - 6s 0us/step\n",
            "Downloading data from https://storage.googleapis.com/tensorflow/tf-keras-datasets/t10k-labels-idx1-ubyte.gz\n",
            "5148/5148 [==============================] - 0s 0us/step\n",
            "Downloading data from https://storage.googleapis.com/tensorflow/tf-keras-datasets/t10k-images-idx3-ubyte.gz\n",
            "4422102/4422102 [==============================] - 1s 0us/step\n"
          ]
        }
      ],
      "source": [
        "# load data\n",
        "(X_train, y_train), (X_test, y_test) = fashion_mnist.load_data()\n",
        "img_width = X_train.shape[1]\n",
        "img_height = X_train.shape[2]"
      ]
    },
    {
      "cell_type": "markdown",
      "metadata": {
        "id": "QBI8XJOcsh2E"
      },
      "source": [
        "# **Hot encoding**"
      ]
    },
    {
      "cell_type": "code",
      "execution_count": 19,
      "metadata": {
        "id": "KCfBuwUdsp5J"
      },
      "outputs": [],
      "source": [
        "# one hot encode outputs\n",
        "y_train = to_categorical(y_train)\n",
        "y_test = to_categorical(y_test)\n",
        "labels = [\"T-shirt/top\", \"Trouser\", \"Pullover\", \"Dress\",\n",
        "          \"Coat\", \"Sandal\", \"Shirt\", \"Sneaker\", \"Bag\", \"Ankle boot\"]\n"
      ]
    },
    {
      "cell_type": "code",
      "execution_count": 20,
      "metadata": {
        "id": "gctbDDzcs2Qo"
      },
      "outputs": [],
      "source": [
        "num_classes = y_train.shape[1]"
      ]
    },
    {
      "cell_type": "markdown",
      "metadata": {
        "id": "ODai5bROso_g"
      },
      "source": [
        "# **Create model**"
      ]
    },
    {
      "cell_type": "code",
      "execution_count": 21,
      "metadata": {
        "id": "ePhA_hcttEZC"
      },
      "outputs": [],
      "source": [
        "# create model\n",
        "model = Sequential()\n",
        "model.add(Flatten(input_shape=(img_width, img_height)))\n",
        "model.add(Dense(num_classes))\n",
        "model.compile(loss='categorical_crossentropy', optimizer='adam',\n",
        "              metrics=['accuracy'])"
      ]
    },
    {
      "cell_type": "code",
      "execution_count": null,
      "metadata": {
        "id": "7t5ZkviLtKE7"
      },
      "outputs": [],
      "source": []
    },
    {
      "cell_type": "markdown",
      "metadata": {
        "id": "I5NPht3vtLI4"
      },
      "source": [
        "# **Fit the model**"
      ]
    },
    {
      "cell_type": "code",
      "execution_count": 22,
      "metadata": {
        "id": "egRzmSM-wB2C"
      },
      "outputs": [
        {
          "name": "stdout",
          "output_type": "stream",
          "text": [
            "Epoch 1/10\n",
            "1875/1875 [==============================] - 1s 439us/step - loss: 9.2837 - accuracy: 0.2876 - val_loss: 10.3442 - val_accuracy: 0.3536\n",
            "Epoch 2/10\n",
            "1875/1875 [==============================] - 1s 431us/step - loss: 9.6555 - accuracy: 0.3440 - val_loss: 8.5315 - val_accuracy: 0.3526\n",
            "Epoch 3/10\n",
            "1875/1875 [==============================] - 1s 481us/step - loss: 9.7464 - accuracy: 0.3604 - val_loss: 9.4847 - val_accuracy: 0.3645\n",
            "Epoch 4/10\n",
            "1875/1875 [==============================] - 1s 399us/step - loss: 9.1074 - accuracy: 0.3022 - val_loss: 9.5210 - val_accuracy: 0.2755\n",
            "Epoch 5/10\n",
            "1875/1875 [==============================] - 1s 399us/step - loss: 9.3770 - accuracy: 0.2752 - val_loss: 9.1100 - val_accuracy: 0.2686\n",
            "Epoch 6/10\n",
            "1875/1875 [==============================] - 1s 395us/step - loss: 9.1755 - accuracy: 0.2679 - val_loss: 9.4355 - val_accuracy: 0.2659\n",
            "Epoch 7/10\n",
            "1875/1875 [==============================] - 1s 399us/step - loss: 9.4533 - accuracy: 0.2690 - val_loss: 9.7450 - val_accuracy: 0.2969\n",
            "Epoch 8/10\n",
            "1875/1875 [==============================] - 1s 415us/step - loss: 9.0219 - accuracy: 0.2789 - val_loss: 9.2663 - val_accuracy: 0.2677\n",
            "Epoch 9/10\n",
            "1875/1875 [==============================] - 1s 398us/step - loss: 9.3136 - accuracy: 0.3123 - val_loss: 8.8198 - val_accuracy: 0.3984\n",
            "Epoch 10/10\n",
            "1875/1875 [==============================] - 1s 401us/step - loss: 9.1022 - accuracy: 0.3735 - val_loss: 8.7344 - val_accuracy: 0.3109\n"
          ]
        },
        {
          "data": {
            "text/plain": [
              "<keras.src.callbacks.History at 0x31d2acbd0>"
            ]
          },
          "execution_count": 22,
          "metadata": {},
          "output_type": "execute_result"
        }
      ],
      "source": [
        "model.fit(X_train, y_train, epochs=10, validation_data=(X_test, y_test))\n"
      ]
    },
    {
      "cell_type": "markdown",
      "metadata": {
        "id": "WDHsJwSK4UKk"
      },
      "source": [
        "# **Improve Accuracy**"
      ]
    },
    {
      "cell_type": "markdown",
      "metadata": {
        "id": "nx68sNSo4bKM"
      },
      "source": [
        "## **import libraries**"
      ]
    },
    {
      "cell_type": "code",
      "execution_count": 23,
      "metadata": {
        "colab": {
          "base_uri": "https://localhost:8080/"
        },
        "id": "A8J7xasf5HQV",
        "outputId": "9e336796-fa07-4100-fbef-934f592af9a1"
      },
      "outputs": [
        {
          "name": "stdout",
          "output_type": "stream",
          "text": [
            "Requirement already satisfied: wandb in /Users/visheshyadav/anaconda3/lib/python3.11/site-packages (0.17.3)\n",
            "Requirement already satisfied: click!=8.0.0,>=7.1 in /Users/visheshyadav/anaconda3/lib/python3.11/site-packages (from wandb) (8.1.7)\n",
            "Requirement already satisfied: docker-pycreds>=0.4.0 in /Users/visheshyadav/anaconda3/lib/python3.11/site-packages (from wandb) (0.4.0)\n",
            "Requirement already satisfied: gitpython!=3.1.29,>=1.0.0 in /Users/visheshyadav/anaconda3/lib/python3.11/site-packages (from wandb) (3.1.42)\n",
            "Requirement already satisfied: platformdirs in /Users/visheshyadav/anaconda3/lib/python3.11/site-packages (from wandb) (3.10.0)\n",
            "Requirement already satisfied: protobuf!=4.21.0,<6,>=3.19.0 in /Users/visheshyadav/anaconda3/lib/python3.11/site-packages (from wandb) (3.20.3)\n",
            "Requirement already satisfied: psutil>=5.0.0 in /Users/visheshyadav/anaconda3/lib/python3.11/site-packages (from wandb) (5.9.0)\n",
            "Requirement already satisfied: pyyaml in /Users/visheshyadav/anaconda3/lib/python3.11/site-packages (from wandb) (6.0.1)\n",
            "Requirement already satisfied: requests<3,>=2.0.0 in /Users/visheshyadav/anaconda3/lib/python3.11/site-packages (from wandb) (2.31.0)\n",
            "Requirement already satisfied: sentry-sdk>=1.0.0 in /Users/visheshyadav/anaconda3/lib/python3.11/site-packages (from wandb) (2.7.1)\n",
            "Requirement already satisfied: setproctitle in /Users/visheshyadav/anaconda3/lib/python3.11/site-packages (from wandb) (1.3.3)\n",
            "Requirement already satisfied: setuptools in /Users/visheshyadav/anaconda3/lib/python3.11/site-packages (from wandb) (69.0.3)\n",
            "Requirement already satisfied: six>=1.4.0 in /Users/visheshyadav/anaconda3/lib/python3.11/site-packages (from docker-pycreds>=0.4.0->wandb) (1.16.0)\n",
            "Requirement already satisfied: gitdb<5,>=4.0.1 in /Users/visheshyadav/anaconda3/lib/python3.11/site-packages (from gitpython!=3.1.29,>=1.0.0->wandb) (4.0.11)\n",
            "Requirement already satisfied: charset-normalizer<4,>=2 in /Users/visheshyadav/anaconda3/lib/python3.11/site-packages (from requests<3,>=2.0.0->wandb) (3.3.2)\n",
            "Requirement already satisfied: idna<4,>=2.5 in /Users/visheshyadav/anaconda3/lib/python3.11/site-packages (from requests<3,>=2.0.0->wandb) (3.6)\n",
            "Requirement already satisfied: urllib3<3,>=1.21.1 in /Users/visheshyadav/anaconda3/lib/python3.11/site-packages (from requests<3,>=2.0.0->wandb) (1.26.18)\n",
            "Requirement already satisfied: certifi>=2017.4.17 in /Users/visheshyadav/anaconda3/lib/python3.11/site-packages (from requests<3,>=2.0.0->wandb) (2024.2.2)\n",
            "Requirement already satisfied: smmap<6,>=3.0.1 in /Users/visheshyadav/anaconda3/lib/python3.11/site-packages (from gitdb<5,>=4.0.1->gitpython!=3.1.29,>=1.0.0->wandb) (5.0.1)\n",
            "\n",
            "\u001b[1m[\u001b[0m\u001b[34;49mnotice\u001b[0m\u001b[1;39;49m]\u001b[0m\u001b[39;49m A new release of pip is available: \u001b[0m\u001b[31;49m24.1\u001b[0m\u001b[39;49m -> \u001b[0m\u001b[32;49m24.1.1\u001b[0m\n",
            "\u001b[1m[\u001b[0m\u001b[34;49mnotice\u001b[0m\u001b[1;39;49m]\u001b[0m\u001b[39;49m To update, run: \u001b[0m\u001b[32;49mpip install --upgrade pip\u001b[0m\n"
          ]
        }
      ],
      "source": [
        "!pip install wandb"
      ]
    },
    {
      "cell_type": "code",
      "execution_count": 24,
      "metadata": {
        "id": "69tIHILD49W1"
      },
      "outputs": [],
      "source": [
        "from tensorflow.keras.utils import to_categorical\n",
        "from tensorflow.keras.datasets import fashion_mnist\n",
        "from tensorflow.keras.models import Sequential\n",
        "from tensorflow.keras.layers import Dense, Flatten\n",
        "import wandb"
      ]
    },
    {
      "cell_type": "markdown",
      "metadata": {
        "id": "05SuCJWj5h9F"
      },
      "source": [
        "## **Load Data**"
      ]
    },
    {
      "cell_type": "code",
      "execution_count": 25,
      "metadata": {
        "colab": {
          "base_uri": "https://localhost:8080/"
        },
        "id": "Jytxfw-L5jRG",
        "outputId": "45374dda-4c1a-4e48-e564-68c2a71ab7d1"
      },
      "outputs": [],
      "source": [
        "# load data\n",
        "(X_train, y_train), (X_test, y_test) = fashion_mnist.load_data()\n",
        "img_width = X_train.shape[1]\n",
        "img_height = X_train.shape[2]"
      ]
    },
    {
      "cell_type": "markdown",
      "metadata": {
        "id": "cIVXpWdh52TE"
      },
      "source": [
        "## **One hot encode outputs**"
      ]
    },
    {
      "cell_type": "code",
      "execution_count": 26,
      "metadata": {
        "id": "4xUxF5C75_k_"
      },
      "outputs": [],
      "source": [
        "y_train = to_categorical(y_train)\n",
        "y_test = to_categorical(y_test)\n",
        "labels = [\"T-shirt/top\", \"Trouser\", \"Pullover\", \"Dress\",\n",
        "          \"Coat\", \"Sandal\", \"Shirt\", \"Sneaker\", \"Bag\", \"Ankle boot\"]"
      ]
    },
    {
      "cell_type": "code",
      "execution_count": 27,
      "metadata": {
        "id": "MqgDtwyM6EbV"
      },
      "outputs": [],
      "source": [
        "X_train = X_train / 255.\n",
        "X_test = X_test / 255."
      ]
    },
    {
      "cell_type": "code",
      "execution_count": 28,
      "metadata": {
        "id": "SmnTYC1g6H0u"
      },
      "outputs": [],
      "source": [
        "num_classes = y_train.shape[1]"
      ]
    },
    {
      "cell_type": "markdown",
      "metadata": {
        "id": "hDEoCJzM6O8M"
      },
      "source": [
        "## **Create model**"
      ]
    },
    {
      "cell_type": "code",
      "execution_count": 29,
      "metadata": {
        "id": "B4x2HvGu6MD8"
      },
      "outputs": [],
      "source": [
        "# create model\n",
        "model = Sequential()\n",
        "model.add(Flatten(input_shape=(img_width, img_height)))\n",
        "model.add(Dense(num_classes, activation=\"softmax\"))\n",
        "model.compile(loss='categorical_crossentropy', optimizer='adam',\n",
        "              metrics=['accuracy'])"
      ]
    },
    {
      "cell_type": "markdown",
      "metadata": {
        "id": "8-bVfBy46eF8"
      },
      "source": [
        "## **Fit the model**"
      ]
    },
    {
      "cell_type": "code",
      "execution_count": 30,
      "metadata": {
        "colab": {
          "base_uri": "https://localhost:8080/"
        },
        "id": "3sDzCFf06obG",
        "outputId": "04bb2441-b547-43a3-8971-c84ff4be3ae6"
      },
      "outputs": [
        {
          "name": "stdout",
          "output_type": "stream",
          "text": [
            "Epoch 1/10\n",
            "1875/1875 [==============================] - 1s 432us/step - loss: 0.5967 - accuracy: 0.7993 - val_loss: 0.5167 - val_accuracy: 0.8193\n",
            "Epoch 2/10\n",
            "1875/1875 [==============================] - 1s 380us/step - loss: 0.4605 - accuracy: 0.8416 - val_loss: 0.4970 - val_accuracy: 0.8246\n",
            "Epoch 3/10\n",
            "1875/1875 [==============================] - 1s 378us/step - loss: 0.4357 - accuracy: 0.8504 - val_loss: 0.4630 - val_accuracy: 0.8376\n",
            "Epoch 4/10\n",
            "1875/1875 [==============================] - 1s 399us/step - loss: 0.4216 - accuracy: 0.8551 - val_loss: 0.4560 - val_accuracy: 0.8376\n",
            "Epoch 5/10\n",
            "1875/1875 [==============================] - 1s 381us/step - loss: 0.4121 - accuracy: 0.8580 - val_loss: 0.4630 - val_accuracy: 0.8369\n",
            "Epoch 6/10\n",
            "1875/1875 [==============================] - 1s 404us/step - loss: 0.4076 - accuracy: 0.8599 - val_loss: 0.4563 - val_accuracy: 0.8428\n",
            "Epoch 7/10\n",
            "1875/1875 [==============================] - 1s 411us/step - loss: 0.4020 - accuracy: 0.8612 - val_loss: 0.4475 - val_accuracy: 0.8420\n",
            "Epoch 8/10\n",
            "1875/1875 [==============================] - 1s 409us/step - loss: 0.3982 - accuracy: 0.8612 - val_loss: 0.4492 - val_accuracy: 0.8440\n",
            "Epoch 9/10\n",
            "1875/1875 [==============================] - 1s 379us/step - loss: 0.3946 - accuracy: 0.8626 - val_loss: 0.4684 - val_accuracy: 0.8392\n",
            "Epoch 10/10\n",
            "1875/1875 [==============================] - 1s 378us/step - loss: 0.3919 - accuracy: 0.8640 - val_loss: 0.4533 - val_accuracy: 0.8415\n"
          ]
        },
        {
          "data": {
            "text/plain": [
              "<keras.src.callbacks.History at 0x320f0dd10>"
            ]
          },
          "execution_count": 30,
          "metadata": {},
          "output_type": "execute_result"
        }
      ],
      "source": [
        "model.fit(X_train, y_train, epochs=10, validation_data=(X_test, y_test))"
      ]
    }
  ],
  "metadata": {
    "colab": {
      "authorship_tag": "ABX9TyMO6oiaia/UwQAAJFFCeITX",
      "include_colab_link": true,
      "provenance": [],
      "toc_visible": true
    },
    "kernelspec": {
      "display_name": "base",
      "language": "python",
      "name": "base"
    },
    "language_info": {
      "codemirror_mode": {
        "name": "ipython",
        "version": 3
      },
      "file_extension": ".py",
      "mimetype": "text/x-python",
      "name": "python",
      "nbconvert_exporter": "python",
      "pygments_lexer": "ipython3",
      "version": "3.11.7"
    }
  },
  "nbformat": 4,
  "nbformat_minor": 0
}
